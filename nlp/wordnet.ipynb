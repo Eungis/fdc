{
 "cells": [
  {
   "cell_type": "code",
   "execution_count": 4,
   "metadata": {},
   "outputs": [],
   "source": [
    "import nltk\n",
    "from nltk.corpus import wordnet as wn"
   ]
  },
  {
   "attachments": {},
   "cell_type": "markdown",
   "metadata": {},
   "source": [
    "### WORDNET\n",
    "- another name: `Thesaurus`\n",
    "- synet, hypernym, hyponym, etc.\n",
    "- http://wordnetweb.princeton.edu/perl/webwn\n",
    "\n",
    "- hierarchy in wordnet\n",
    "- similarity(w1, w2) = -log distance(w1, w2)"
   ]
  },
  {
   "cell_type": "code",
   "execution_count": 5,
   "metadata": {},
   "outputs": [
    {
     "data": {
      "text/plain": [
       "[Synset('worker.n.01'),\n",
       " Synset('proletarian.n.01'),\n",
       " Synset('worker.n.03'),\n",
       " Synset('actor.n.02')]"
      ]
     },
     "execution_count": 5,
     "metadata": {},
     "output_type": "execute_result"
    }
   ],
   "source": [
    "# synsets\n",
    "wn.synsets('worker')"
   ]
  },
  {
   "cell_type": "code",
   "execution_count": 6,
   "metadata": {},
   "outputs": [
    {
     "data": {
      "text/plain": [
       "[Synset('person.n.01')]"
      ]
     },
     "execution_count": 6,
     "metadata": {},
     "output_type": "execute_result"
    }
   ],
   "source": [
    "# hypernym\n",
    "wn.synsets('worker')[0].hypernyms()"
   ]
  },
  {
   "cell_type": "code",
   "execution_count": 7,
   "metadata": {},
   "outputs": [
    {
     "name": "stdout",
     "output_type": "stream",
     "text": [
      "Synset('policeman.n.01')\n",
      "Synset('lawman.n.01')\n",
      "Synset('defender.n.01')\n",
      "Synset('preserver.n.03')\n",
      "Synset('person.n.01')\n",
      "Synset('causal_agent.n.01')\n",
      "Synset('physical_entity.n.01')\n",
      "Synset('entity.n.01')\n",
      "No anymore hypernym: list index out of range\n"
     ]
    }
   ],
   "source": [
    "# generator to output hypernyms\n",
    "def get_hypernyms(word, verbose=False):\n",
    "    current_node = wn.synsets(word)[0]\n",
    "    yield current_node\n",
    "    \n",
    "    while True:\n",
    "        try:\n",
    "            current_node = current_node.hypernyms()[0]\n",
    "            yield current_node\n",
    "        except IndexError as e:\n",
    "            if verbose:\n",
    "                print(f\"No anymore hypernym: {e}\")\n",
    "            break\n",
    "\n",
    "for i in get_hypernyms('policeman', verbose=True):\n",
    "    print(i)"
   ]
  },
  {
   "cell_type": "code",
   "execution_count": 8,
   "metadata": {},
   "outputs": [
    {
     "data": {
      "text/plain": [
       "[Synset('fireman.n.04'),\n",
       " Synset('defender.n.01'),\n",
       " Synset('preserver.n.03'),\n",
       " Synset('person.n.01'),\n",
       " Synset('causal_agent.n.01'),\n",
       " Synset('physical_entity.n.01'),\n",
       " Synset('entity.n.01')]"
      ]
     },
     "execution_count": 8,
     "metadata": {},
     "output_type": "execute_result"
    }
   ],
   "source": [
    "[i for i in get_hypernyms('firefighter')]"
   ]
  },
  {
   "cell_type": "code",
   "execution_count": 9,
   "metadata": {},
   "outputs": [
    {
     "name": "stdout",
     "output_type": "stream",
     "text": [
      "identical hypernym: Synset('person.n.01')\n"
     ]
    },
    {
     "data": {
      "text/plain": [
       "5"
      ]
     },
     "execution_count": 9,
     "metadata": {},
     "output_type": "execute_result"
    }
   ],
   "source": [
    "def calc_distance(word_1, word_2):\n",
    "    word_1_hypernyms = [\n",
    "        hypernym for hypernym in get_hypernyms(word_1)\n",
    "    ]\n",
    "    for word_2_dist, word_2_hypernym in enumerate(get_hypernyms(word_2)):\n",
    "        try:\n",
    "            word_1_dist = word_1_hypernyms.index(word_2_hypernym)\n",
    "            print(f\"identical hypernym: {word_2_hypernym}\")\n",
    "            return word_2_dist + word_1_dist\n",
    "        except:\n",
    "            continue\n",
    "\n",
    "calc_distance(\"firefighter\", \"student\")"
   ]
  },
  {
   "cell_type": "code",
   "execution_count": 10,
   "metadata": {},
   "outputs": [
    {
     "name": "stdout",
     "output_type": "stream",
     "text": [
      "identical hypernym: Synset('person.n.01')\n"
     ]
    },
    {
     "data": {
      "text/plain": [
       "-1.6094379124341003"
      ]
     },
     "execution_count": 10,
     "metadata": {},
     "output_type": "execute_result"
    },
    {
     "ename": "",
     "evalue": "",
     "output_type": "error",
     "traceback": [
      "\u001b[1;31mThe Kernel crashed while executing code in the the current cell or a previous cell. Please review the code in the cell(s) to identify a possible cause of the failure. Click <a href='https://aka.ms/vscodeJupyterKernelCrash'>here</a> for more info. View Jupyter <a href='command:jupyter.viewOutput'>log</a> for further details."
     ]
    }
   ],
   "source": [
    "import numpy as np\n",
    "\n",
    "def calc_similarity(word_1, word_2):\n",
    "    dist = calc_distance(word_1, word_2)\n",
    "    sim = -np.log(dist)\n",
    "    return sim\n",
    "\n",
    "calc_similarity('firefighter', 'student')"
   ]
  }
 ],
 "metadata": {
  "kernelspec": {
   "display_name": "mps_venv",
   "language": "python",
   "name": "python3"
  },
  "language_info": {
   "codemirror_mode": {
    "name": "ipython",
    "version": 3
   },
   "file_extension": ".py",
   "mimetype": "text/x-python",
   "name": "python",
   "nbconvert_exporter": "python",
   "pygments_lexer": "ipython3",
   "version": "3.10.0"
  },
  "orig_nbformat": 4
 },
 "nbformat": 4,
 "nbformat_minor": 2
}
