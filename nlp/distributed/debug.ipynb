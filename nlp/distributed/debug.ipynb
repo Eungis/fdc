{
 "cells": [
  {
   "cell_type": "code",
   "execution_count": 1,
   "metadata": {},
   "outputs": [],
   "source": [
    "from models import build_transformer\n",
    "\n",
    "model = build_transformer(\n",
    "    src_vocab_size=16000,\n",
    "    tgt_vocab_size=32000,\n",
    "    src_seq_len=256,\n",
    "    tgt_seq_len=256,\n",
    "    d_model=512,\n",
    "    N=6,\n",
    "    h=8,\n",
    "    dropout=0.1,\n",
    "    d_ff=2048,\n",
    ")"
   ]
  },
  {
   "cell_type": "code",
   "execution_count": 2,
   "metadata": {},
   "outputs": [],
   "source": [
    "import torch\n",
    "import torch.nn as nn\n",
    "\n",
    "src_vocab_size = 16000\n",
    "src_seq_len = 256\n",
    "batch_size = 2\n",
    "\n",
    "fake_input = torch.randint(0, src_vocab_size, (batch_size, src_seq_len))\n",
    "encoder_output = model.encode(src=fake_input, src_mask=None)"
   ]
  }
 ],
 "metadata": {
  "kernelspec": {
   "display_name": "nlp",
   "language": "python",
   "name": "python3"
  },
  "language_info": {
   "codemirror_mode": {
    "name": "ipython",
    "version": 3
   },
   "file_extension": ".py",
   "mimetype": "text/x-python",
   "name": "python",
   "nbconvert_exporter": "python",
   "pygments_lexer": "ipython3",
   "version": "3.10.0"
  }
 },
 "nbformat": 4,
 "nbformat_minor": 2
}
