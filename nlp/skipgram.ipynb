{
 "cells": [
  {
   "cell_type": "markdown",
   "metadata": {},
   "source": [
    "# SkipGram Implementation\n",
    "\n",
    "- It doesn't support batch input.\n",
    "- That means, 1 batch = 1 sample\n",
    "- It was made to fully understand the mechanism of `SkipGram`\n",
    "- It needs to split into batch if using large corpus"
   ]
  },
  {
   "cell_type": "code",
   "execution_count": 1,
   "metadata": {},
   "outputs": [],
   "source": [
    "def tokenize_corpus(corpus):\n",
    "    tokens = [x.split() for x in corpus]\n",
    "    return tokens\n",
    "\n",
    "corpus = [\n",
    "    'he is a king',\n",
    "    'she is a queen',\n",
    "    'he is a man',\n",
    "    'she is a woman',\n",
    "    'warsaw is poland capital',\n",
    "    'berlin is germany capital',\n",
    "    'paris is france capital',\n",
    "]\n",
    "\n",
    "tok_corpus = tokenize_corpus(corpus)"
   ]
  },
  {
   "cell_type": "code",
   "execution_count": 2,
   "metadata": {},
   "outputs": [],
   "source": [
    "def make_vocab(tok_corpus):\n",
    "    vocab = []\n",
    "    for sent in tok_corpus:\n",
    "        for token in sent:\n",
    "            if token not in vocab:\n",
    "                vocab.append(token)\n",
    "\n",
    "    stoi = {w: idx for (idx, w) in enumerate(vocab)}\n",
    "    itos = {idx: w for (idx, w) in enumerate(vocab)}\n",
    "\n",
    "    return stoi, itos\n",
    "\n",
    "stoi, itos = make_vocab(tok_corpus)"
   ]
  },
  {
   "cell_type": "code",
   "execution_count": 3,
   "metadata": {},
   "outputs": [
    {
     "data": {
      "text/plain": [
       "{'he': 0,\n",
       " 'is': 1,\n",
       " 'a': 2,\n",
       " 'king': 3,\n",
       " 'she': 4,\n",
       " 'queen': 5,\n",
       " 'man': 6,\n",
       " 'woman': 7,\n",
       " 'warsaw': 8,\n",
       " 'poland': 9,\n",
       " 'capital': 10,\n",
       " 'berlin': 11,\n",
       " 'germany': 12,\n",
       " 'paris': 13,\n",
       " 'france': 14}"
      ]
     },
     "execution_count": 3,
     "metadata": {},
     "output_type": "execute_result"
    }
   ],
   "source": [
    "stoi"
   ]
  },
  {
   "cell_type": "code",
   "execution_count": 4,
   "metadata": {},
   "outputs": [],
   "source": [
    "import numpy as np\n",
    "\n",
    "\n",
    "def make_idx_pairs(tok_corpus, window_size):\n",
    "    idx_pairs = []\n",
    "    # for each sentence\n",
    "    for sentence in tok_corpus:\n",
    "        indices = [stoi[word] for word in sentence]\n",
    "        # for each word, threated as center word\n",
    "        for center_word_pos in range(len(indices)):\n",
    "            # for each window position\n",
    "            for w in range(-window_size, window_size + 1):\n",
    "                context_word_pos = center_word_pos + w\n",
    "                # make soure not jump out sentence\n",
    "                if context_word_pos < 0 or context_word_pos >= len(indices) or center_word_pos == context_word_pos:\n",
    "                    continue\n",
    "                context_word_idx = indices[context_word_pos]\n",
    "                idx_pairs.append((indices[center_word_pos], context_word_idx))\n",
    "\n",
    "    idx_pairs = np.array(idx_pairs) # it will be useful to have this as numpy array\n",
    "    return idx_pairs\n",
    "\n",
    "idx_pairs = make_idx_pairs(tok_corpus, 2)"
   ]
  },
  {
   "cell_type": "code",
   "execution_count": 6,
   "metadata": {},
   "outputs": [
    {
     "data": {
      "text/plain": [
       "70"
      ]
     },
     "execution_count": 6,
     "metadata": {},
     "output_type": "execute_result"
    }
   ],
   "source": [
    "len(idx_pairs)"
   ]
  },
  {
   "cell_type": "code",
   "execution_count": 27,
   "metadata": {},
   "outputs": [
    {
     "data": {
      "text/plain": [
       "array([[0, 1],\n",
       "       [0, 2],\n",
       "       [1, 0],\n",
       "       [1, 2],\n",
       "       [1, 3]])"
      ]
     },
     "execution_count": 27,
     "metadata": {},
     "output_type": "execute_result"
    }
   ],
   "source": [
    "idx_pairs[:5]"
   ]
  },
  {
   "cell_type": "code",
   "execution_count": 15,
   "metadata": {},
   "outputs": [],
   "source": [
    "import torch\n",
    "\n",
    "# one-hot encoding\n",
    "def get_input_layer(word_idx, vocab_size):\n",
    "    x = torch.zeros(vocab_size).float()\n",
    "    x[word_idx] = 1.0\n",
    "    return x"
   ]
  },
  {
   "cell_type": "code",
   "execution_count": 30,
   "metadata": {},
   "outputs": [
    {
     "name": "stdout",
     "output_type": "stream",
     "text": [
      "Loss at epo 10: 4.245465894256319\n",
      "Loss at epo 20: 3.8014162080628533\n",
      "Loss at epo 30: 3.512472382613591\n",
      "Loss at epo 40: 3.2980784041540963\n",
      "Loss at epo 50: 3.1274685910769873\n",
      "Loss at epo 60: 2.9866258433886936\n",
      "Loss at epo 70: 2.8684525012969972\n",
      "Loss at epo 80: 2.7687465531485422\n",
      "Loss at epo 90: 2.6844719426972525\n",
      "Loss at epo 100: 2.613019234793527\n"
     ]
    }
   ],
   "source": [
    "import torch\n",
    "import torch.nn as nn\n",
    "\n",
    "word_vec_size = 5\n",
    "vocab_size = len(stoi)\n",
    "lr = .001\n",
    "n_epochs = 100\n",
    "\n",
    "## Initialize model\n",
    "\n",
    "# embedding layer\n",
    "W1=torch.randn(word_vec_size, vocab_size, requires_grad=True).float()\n",
    "# output layer\n",
    "W2=torch.randn(vocab_size, word_vec_size, requires_grad=True).float()\n",
    "\n",
    "# criterion\n",
    "crit = nn.NLLLoss()\n",
    "log_softmax = nn.LogSoftmax(dim=0)\n",
    "\n",
    "for epoch in range(n_epochs):\n",
    "    total_loss = 0\n",
    "    for x, y in idx_pairs:\n",
    "        x = get_input_layer(x, vocab_size).float()\n",
    "        y = torch.from_numpy(np.array([y])).long()\n",
    "        \n",
    "        # feed forward\n",
    "        z1 = torch.matmul(W1, x)\n",
    "        z2 = torch.matmul(W2, z1)\n",
    "        y_hat = log_softmax(z2)\n",
    "        \n",
    "        # calculate loss and back-prop\n",
    "        loss = crit(y_hat.view(1, -1), y)\n",
    "        loss.backward()\n",
    "        \n",
    "        # update parameters\n",
    "        W1.data -= lr * W1.grad.data\n",
    "        W2.data -= lr * W2.grad.data\n",
    "        \n",
    "        # zero gradient\n",
    "        W1.grad.data.zero_()\n",
    "        W2.grad.data.zero_()\n",
    "\n",
    "        total_loss += loss.item()\n",
    "    \n",
    "    if (epoch+1) % 10 == 0:\n",
    "        print(f'Loss at epo {epoch+1}: {total_loss/len(idx_pairs)}')"
   ]
  },
  {
   "cell_type": "markdown",
   "metadata": {},
   "source": [
    "# Refactor above implementation\n",
    "- use `Adam` optimizer\n",
    "- initialize `Trainer`"
   ]
  },
  {
   "cell_type": "code",
   "execution_count": 34,
   "metadata": {},
   "outputs": [
    {
     "name": "stdout",
     "output_type": "stream",
     "text": [
      "Loss at epoch 10: 2.392548942565918\n",
      "Loss at epoch 20: 2.2273186266422274\n",
      "Loss at epoch 30: 2.1401266276836397\n",
      "Loss at epoch 40: 2.073872801235744\n",
      "Loss at epoch 50: 2.0164452391011376\n",
      "Loss at epoch 60: 1.9619420647621155\n",
      "Loss at epoch 70: 1.9087958778653826\n",
      "Loss at epoch 80: 1.8587679088115692\n",
      "Loss at epoch 90: 1.8144734740257262\n",
      "Loss at epoch 100: 1.7769894080502646\n"
     ]
    }
   ],
   "source": [
    "class SkipGram(nn.Module):\n",
    "    def __init__(\n",
    "        self,\n",
    "        vocab_size,\n",
    "        word_vec_size\n",
    "    ):\n",
    "        super().__init__()\n",
    "        \n",
    "        self.emb = nn.Linear(vocab_size, word_vec_size)\n",
    "        self.generator = nn.Linear(word_vec_size, vocab_size)\n",
    "        # here use LogSoftmax + NLLLoss\n",
    "        # instead of Softmax + CrossEntropy\n",
    "        self.activation = nn.LogSoftmax(dim=0)\n",
    "        \n",
    "    def forward(self, x):\n",
    "        z1 = self.emb(x)\n",
    "        z2 = self.generator(z1)\n",
    "        y_hat = self.activation(z2)\n",
    "        return y_hat\n",
    "\n",
    "class Trainer(object):\n",
    "    def __init__(\n",
    "        self,\n",
    "        model,\n",
    "        optimizer,\n",
    "        crit\n",
    "    ):\n",
    "        self.model = model\n",
    "        self.optimizer = optimizer\n",
    "        self.crit = crit\n",
    "        \n",
    "        self.device = next(model.parameters()).device\n",
    "        \n",
    "    def _train(self, pairs):\n",
    "        self.model.train()\n",
    "        \n",
    "        total_loss = 0\n",
    "        for x, y in pairs:\n",
    "            x = get_input_layer(x, vocab_size).float()\n",
    "            y = torch.from_numpy(np.array([y])).long()\n",
    "            \n",
    "            # zero_grad optimizer\n",
    "            self.optimizer.zero_grad()\n",
    "            \n",
    "            # feed forward\n",
    "            y_hat = self.model(x)\n",
    "            \n",
    "            # calculate loss and back-prop\n",
    "            loss = self.crit(y_hat.view(1, -1), y)\n",
    "            loss.backward()\n",
    "            \n",
    "            # update parameters\n",
    "            self.optimizer.step()\n",
    "\n",
    "            total_loss += loss.item()\n",
    "        \n",
    "        return total_loss / len(pairs)\n",
    "    \n",
    "    def train(self, pairs, n_epochs):\n",
    "        \n",
    "        for epoch in range(n_epochs):\n",
    "            train_loss = self._train(pairs)\n",
    "            \n",
    "            if (epoch+1) % 10 == 0:\n",
    "                print(f'Loss at epoch {epoch+1}: {train_loss}')\n",
    "        \n",
    "        return self.model\n",
    "    \n",
    "vocab_size=len(stoi)\n",
    "word_vec_size=5\n",
    "n_epochs = 100\n",
    "\n",
    "# initialize model\n",
    "model = SkipGram(\n",
    "    vocab_size=len(stoi),\n",
    "    word_vec_size=5\n",
    ")\n",
    "optimizer = torch.optim.Adam(model.parameters())\n",
    "crit = nn.NLLLoss()\n",
    "trainer = Trainer(model, optimizer, crit)\n",
    "model = trainer.train(idx_pairs, n_epochs)"
   ]
  },
  {
   "cell_type": "code",
   "execution_count": null,
   "metadata": {},
   "outputs": [],
   "source": []
  }
 ],
 "metadata": {
  "kernelspec": {
   "display_name": "nlp",
   "language": "python",
   "name": "python3"
  },
  "language_info": {
   "codemirror_mode": {
    "name": "ipython",
    "version": 3
   },
   "file_extension": ".py",
   "mimetype": "text/x-python",
   "name": "python",
   "nbconvert_exporter": "python",
   "pygments_lexer": "ipython3",
   "version": "3.10.0"
  },
  "orig_nbformat": 4
 },
 "nbformat": 4,
 "nbformat_minor": 2
}
