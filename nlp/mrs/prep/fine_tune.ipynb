{
 "cells": [
  {
   "cell_type": "code",
   "execution_count": 1,
   "metadata": {},
   "outputs": [],
   "source": [
    "import sys\n",
    "\n",
    "# in order to import the modules located at the root directory\n",
    "sys.path.append(\"..\")"
   ]
  },
  {
   "cell_type": "code",
   "execution_count": 2,
   "metadata": {},
   "outputs": [],
   "source": [
    "import logging\n",
    "from importlib import reload  # Not needed in Python 2\n",
    "\n",
    "reload(logging)\n",
    "logging.basicConfig(\n",
    "    format=\"%(message)s\",\n",
    "    level=logging.DEBUG,\n",
    ")\n",
    "\n",
    "LOGGER = logging.getLogger(__name__)"
   ]
  },
  {
   "cell_type": "code",
   "execution_count": 3,
   "metadata": {},
   "outputs": [
    {
     "name": "stderr",
     "output_type": "stream",
     "text": [
      "Note: NumExpr detected 10 cores but \"NUMEXPR_MAX_THREADS\" not set, so enforcing safe limit of 8.\n",
      "NumExpr defaulting to 8 threads.\n",
      "Number of sessions: 236\n"
     ]
    }
   ],
   "source": [
    "from mrs.dataset import SessionBuilder, DATA_PATH\n",
    "\n",
    "builder = SessionBuilder(style=\"formal\")\n",
    "sessions = builder.build_sessions(data_path=DATA_PATH)\n",
    "utts = builder.get_utterances(sessions)"
   ]
  },
  {
   "cell_type": "code",
   "execution_count": 6,
   "metadata": {},
   "outputs": [
    {
     "name": "stdout",
     "output_type": "stream",
     "text": [
      "221 15\n"
     ]
    }
   ],
   "source": [
    "train_sessions = sessions[:-15]\n",
    "valid_sessions = sessions[-15:]\n",
    "print(len(train_sessions), len(valid_sessions))"
   ]
  },
  {
   "cell_type": "code",
   "execution_count": 8,
   "metadata": {},
   "outputs": [
    {
     "name": "stdout",
     "output_type": "stream",
     "text": [
      "['안녕하세요. 저는 고양이 6마리 키워요.', '고양이를 6마리나요? 키우는거 안 힘드세요?', '제가 워낙 고양이를 좋아해서 크게 힘들진 않아요.', '가장 나이가 많은 고양이가 어떻게 돼요?', '여섯 살입니다. 갈색 고양이에요.', '그럼 가장 어린 고양이가 어떻게 돼요?', '한 살입니다. 작년에 분양 받았어요.', '그럼 고양이들끼리 안 싸우나요?', '저희 일곱은 다같이 한 가족입니다. 싸우는 일은 없어요.']\n"
     ]
    }
   ],
   "source": [
    "print(train_sessions[0].conv)"
   ]
  },
  {
   "cell_type": "code",
   "execution_count": 14,
   "metadata": {},
   "outputs": [
    {
     "name": "stdout",
     "output_type": "stream",
     "text": [
      "3020 214\n"
     ]
    }
   ],
   "source": [
    "# make positive/negative pairs\n",
    "# data augmentation\n",
    "import random\n",
    "from collections import defaultdict\n",
    "from typing import List\n",
    "from mrs.dataset import Session\n",
    "\n",
    "\n",
    "def build_finetune_dataset(\n",
    "    utts: List[str], sessions: List[Session], n_turns: int = 5, n_negs: int = 4\n",
    ") -> dict:\n",
    "    data_json = defaultdict(dict)\n",
    "\n",
    "    cnt = 0\n",
    "    for session in sessions:\n",
    "        ctx = [session.conv[0]]\n",
    "        for turn in range(1, len(session.conv)):\n",
    "            utt = session.conv[turn]\n",
    "            neg_candidates = random.sample(utts, n_negs)\n",
    "            data_json[cnt][\"context\"] = ctx[:][-n_turns:]\n",
    "            data_json[cnt][\"positive_response\"] = utt\n",
    "            data_json[cnt][\"negative_responses\"] = neg_candidates\n",
    "            ctx.append(utt)\n",
    "            cnt += 1\n",
    "\n",
    "    return data_json\n",
    "\n",
    "\n",
    "train_json = build_finetune_dataset(utts=utts, sessions=train_sessions)\n",
    "valid_json = build_finetune_dataset(utts=utts, sessions=valid_sessions)\n",
    "print(len(train_json), len(valid_json))"
   ]
  },
  {
   "cell_type": "code",
   "execution_count": 18,
   "metadata": {},
   "outputs": [
    {
     "data": {
      "text/plain": [
       "{'context': ['안녕하세요. 저는 고양이 6마리 키워요.'],\n",
       " 'positive_response': '고양이를 6마리나요? 키우는거 안 힘드세요?',\n",
       " 'negative_responses': ['네, 어느 순간부터 일과가 되었어요.',\n",
       "  '어떤 쇼를 가장 좋아하시나요?',\n",
       "  '당장 다음주에 무도회를 나가게 되는데, 어떻게 할 지 모르겠어요.',\n",
       "  '태어날 때 부터 색맹이였어요.']}"
      ]
     },
     "execution_count": 18,
     "metadata": {},
     "output_type": "execute_result"
    }
   ],
   "source": [
    "train_json[0]"
   ]
  }
 ],
 "metadata": {
  "kernelspec": {
   "display_name": "nlp",
   "language": "python",
   "name": "python3"
  },
  "language_info": {
   "codemirror_mode": {
    "name": "ipython",
    "version": 3
   },
   "file_extension": ".py",
   "mimetype": "text/x-python",
   "name": "python",
   "nbconvert_exporter": "python",
   "pygments_lexer": "ipython3",
   "version": "3.10.0"
  }
 },
 "nbformat": 4,
 "nbformat_minor": 2
}
