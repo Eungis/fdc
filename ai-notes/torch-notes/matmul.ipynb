{
 "cells": [
  {
   "cell_type": "code",
   "execution_count": 61,
   "metadata": {},
   "outputs": [],
   "source": [
    "import torch\n",
    "import pandas as pd\n",
    "from sentence_transformers import SentenceTransformer\n",
    "\n",
    "\"\"\"\n",
    "Get SBERT model.\n",
    "It's used when embedding sentence or word before calculating distance.\n",
    "\"\"\"\n",
    "\n",
    "\n",
    "class SBERT:\n",
    "    def __init__(self):\n",
    "        self.model = SentenceTransformer(\"all-MiniLM-L6-v2\")\n",
    "\n",
    "    def encode(self, text_list: list):\n",
    "        embedded_text_list = self.model.encode(text_list)\n",
    "        return embedded_text_list\n",
    "\n",
    "\n",
    "model = SBERT()\n",
    "\n",
    "\"\"\"\n",
    "Our objective is to find the closest product among the product list y.\n",
    "Moreover, we want to do batch execution, which means we are not going to\n",
    "use for loop to look through every row in y_hat.\n",
    "\n",
    "step 1: embedding y\n",
    "step 2: embedding y_hat and pad y_hat according to the max_length\n",
    "step 3: matrix multiplication between y and y_hat\n",
    "step 4: get distance_matrix using argmax\n",
    "\"\"\"\n",
    "\n",
    "y = [\n",
    "    \"fresh banana\",\n",
    "    \"fresh peach\",\n",
    "    \"fresh apple\",\n",
    "    \"dried potato\",\n",
    "    \"fresh avocado\",\n",
    "    \"fresh peach\",\n",
    "]\n",
    "embedded_y = torch.from_numpy(model.encode(y))\n",
    "\n",
    "y_hat = pd.DataFrame(\n",
    "    {\n",
    "        \"prod\": [\n",
    "            [\"fresh apple fuji\", \"africa peach\"],\n",
    "            [\"avocado\"],\n",
    "            [\"potato green\", \"peach fluffy\", \"fresh avocado\"],\n",
    "        ]\n",
    "    }\n",
    ")"
   ]
  },
  {
   "cell_type": "code",
   "execution_count": 62,
   "metadata": {},
   "outputs": [],
   "source": [
    "MAX_LENGTH = y_hat[\"prod\"].apply(len).max()\n",
    "\n",
    "_y_hat = []\n",
    "\n",
    "for idx, series in y_hat.iterrows():\n",
    "    prod_lst = series[\"prod\"]\n",
    "    embedded_prod_lst = torch.from_numpy(model.encode(prod_lst))\n",
    "    # |embedded_prod_lst| = (num_prod, dimension)\n",
    "\n",
    "    if len(prod_lst) < MAX_LENGTH:\n",
    "        embedded_prod_lst = torch.cat(\n",
    "            [\n",
    "                embedded_prod_lst,\n",
    "                torch.zeros(MAX_LENGTH - len(prod_lst), embedded_prod_lst.size(-1))\n",
    "                # |torch.zeros| = (MAX_LENGTH - num_prod, dimension)\n",
    "            ],\n",
    "            dim=0,\n",
    "        ).unsqueeze(0)\n",
    "        # |embedded_prod_lst| = (1, MAX_LENGTH, dimension)\n",
    "\n",
    "        _y_hat += [embedded_prod_lst]\n",
    "    else:\n",
    "        embedded_prod_lst = embedded_prod_lst.unsqueeze(0)\n",
    "        _y_hat += [embedded_prod_lst]\n",
    "\n",
    "_y_hat = torch.cat(_y_hat, dim=0)\n",
    "# |embedded_prod_lst| = (num_rows, MAX_LENGTH, dimension)"
   ]
  },
  {
   "cell_type": "code",
   "execution_count": 63,
   "metadata": {},
   "outputs": [
    {
     "name": "stdout",
     "output_type": "stream",
     "text": [
      "tensor([[[-0.0700, -0.0240,  0.0509,  ..., -0.0357,  0.0216,  0.0532],\n",
      "         [-0.0461,  0.0610, -0.0767,  ..., -0.0712, -0.0075, -0.0423],\n",
      "         [ 0.0000,  0.0000,  0.0000,  ...,  0.0000,  0.0000,  0.0000]],\n",
      "\n",
      "        [[-0.0188,  0.0214, -0.0350,  ..., -0.0140,  0.0417,  0.1026],\n",
      "         [ 0.0000,  0.0000,  0.0000,  ...,  0.0000,  0.0000,  0.0000],\n",
      "         [ 0.0000,  0.0000,  0.0000,  ...,  0.0000,  0.0000,  0.0000]],\n",
      "\n",
      "        [[-0.0119, -0.0041, -0.0858,  ...,  0.0007,  0.0545,  0.0318],\n",
      "         [-0.0401, -0.0086,  0.0142,  ..., -0.0410,  0.0812, -0.0254],\n",
      "         [-0.0338, -0.0230, -0.0058,  ...,  0.0132,  0.0123,  0.0533]]]) torch.Size([3, 3, 384])\n"
     ]
    }
   ],
   "source": [
    "print(_y_hat, _y_hat.size())"
   ]
  },
  {
   "cell_type": "code",
   "execution_count": 64,
   "metadata": {},
   "outputs": [
    {
     "name": "stdout",
     "output_type": "stream",
     "text": [
      "Before transpose:  torch.Size([6, 384])\n",
      "After transpose:  torch.Size([384, 6])\n"
     ]
    }
   ],
   "source": [
    "print(\"Before transpose: \", embedded_y.size())\n",
    "embedded_y.transpose_(0, 1)\n",
    "print(\"After transpose: \", embedded_y.size())"
   ]
  },
  {
   "cell_type": "code",
   "execution_count": 74,
   "metadata": {},
   "outputs": [
    {
     "data": {
      "text/plain": [
       "tensor([[2., 1., 0.],\n",
       "        [4., 0., 0.],\n",
       "        [3., 1., 4.]])"
      ]
     },
     "execution_count": 74,
     "metadata": {},
     "output_type": "execute_result"
    }
   ],
   "source": [
    "\"\"\"\n",
    "SBERT outputs the vector of which norm value are all 1.\n",
    "Therefore, we don't have to divide norm for calculating the cosine distance.\n",
    "Only we have to do is matrix multiplication.\n",
    "\"\"\"\n",
    "\n",
    "distance_matrix = torch.matmul(_y_hat, embedded_y)\n",
    "distance_matrix.argmax(dim=-1)\n",
    "# y = [\"fresh banana\", \"fresh peach\", \"fresh apple\", \"dried potato\", \"fresh avocado\", \"fresh peach\"]\n",
    "# result = [[2, 0], [4, 0]]\n",
    "# result = [[fresh apple, fresh banana], [fresh avocado, fresh banana]]\n",
    "\n",
    "\"\"\"\n",
    "At last, we have to mask the padded position.\n",
    "\"\"\"\n",
    "lengths = y_hat[\"prod\"].apply(len).tolist()\n",
    "masks = []\n",
    "for length in lengths:\n",
    "    mask = torch.zeros(MAX_LENGTH)\n",
    "    if length < MAX_LENGTH:\n",
    "        mask[MAX_LENGTH - length :] = 1\n",
    "\n",
    "    masks += [mask]\n",
    "masks = torch.stack(masks, dim=0)\n",
    "\n",
    "distance_matrix.argmax(dim=-1).float().masked_fill_(masks, -float(\"inf\"))"
   ]
  },
  {
   "cell_type": "code",
   "execution_count": null,
   "metadata": {},
   "outputs": [],
   "source": []
  }
 ],
 "metadata": {
  "kernelspec": {
   "display_name": "venv",
   "language": "python",
   "name": "python3"
  },
  "language_info": {
   "codemirror_mode": {
    "name": "ipython",
    "version": 3
   },
   "file_extension": ".py",
   "mimetype": "text/x-python",
   "name": "python",
   "nbconvert_exporter": "python",
   "pygments_lexer": "ipython3",
   "version": "3.10.9"
  },
  "vscode": {
   "interpreter": {
    "hash": "a10b254881f706e42c635ed13e00f86233c557d346dd26ed90d26c2bb04c756e"
   }
  }
 },
 "nbformat": 4,
 "nbformat_minor": 2
}
