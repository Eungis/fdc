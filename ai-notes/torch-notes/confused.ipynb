{
 "cells": [
  {
   "cell_type": "markdown",
   "metadata": {},
   "source": [
    "## torch.matmul() vs. torch.bmm() vs. torch.mm"
   ]
  },
  {
   "cell_type": "code",
   "execution_count": 5,
   "metadata": {},
   "outputs": [
    {
     "name": "stdout",
     "output_type": "stream",
     "text": [
      "Matmul: torch.Size([3]) & torch.Size([3]) -> torch.Size([])\n",
      "Matmul: torch.Size([3, 4]) & torch.Size([4]) -> torch.Size([3])\n",
      "Matmul: torch.Size([10, 3, 4]) & torch.Size([4]) -> torch.Size([10, 3])\n",
      "Matmul: torch.Size([10, 3, 4]) & torch.Size([10, 4, 5]) -> torch.Size([10, 3, 5])\n",
      "Matmul: torch.Size([10, 3, 4]) & torch.Size([4, 5]) -> torch.Size([10, 3, 5])\n",
      "========================\n",
      "mm: torch.Size([2, 3]) & torch.Size([3, 2]) -> torch.Size([2, 2])\n",
      "========================\n",
      "bmm: torch.Size([10, 2, 3]) & torch.Size([10, 3, 2]) -> torch.Size([10, 2, 2])\n",
      "========================\n",
      "outer: torch.Size([3]) & torch.Size([2]) -> torch.Size([3, 2])\n",
      "========================\n"
     ]
    }
   ],
   "source": [
    "import torch\n",
    "\n",
    "# ---- torch.matmul() (@) ---- #\n",
    "# Supports vector inner product, broadcasting. Lot of debugging points.\n",
    "\n",
    "# Vector * Vector -> Inner Product\n",
    "tensor1 = torch.randn(3)\n",
    "tensor2 = torch.randn(3)\n",
    "result = torch.matmul(tensor1, tensor2)\n",
    "print(f\"Matmul: {tensor1.shape} & {tensor2.shape} -> {result.shape}\")\n",
    "\n",
    "# Matrix * Vector\n",
    "tensor1 = torch.randn(3, 4)\n",
    "tensor2 = torch.randn(4)\n",
    "result = torch.matmul(tensor1, tensor2)\n",
    "print(f\"Matmul: {tensor1.shape} & {tensor2.shape} -> {result.shape}\")\n",
    "\n",
    "# Batched matrix * Broadcasted vector\n",
    "tensor1 = torch.randn(10, 3, 4)\n",
    "tensor2 = torch.randn(4)\n",
    "result = torch.matmul(tensor1, tensor2)\n",
    "print(f\"Matmul: {tensor1.shape} & {tensor2.shape} -> {result.shape}\")\n",
    "\n",
    "# Batched matrix * Batched matrix\n",
    "tensor1 = torch.randn(10, 3, 4)\n",
    "tensor2 = torch.randn(10, 4, 5)\n",
    "tensor2 = tensor2[0].repeat(10, 1, 1)\n",
    "result = torch.matmul(tensor1, tensor2)\n",
    "print(f\"Matmul: {tensor1.shape} & {tensor2.shape} -> {result.shape}\")\n",
    "\n",
    "# Batched matrix * Broadcasted matrix\n",
    "tensor2 = tensor2[0]\n",
    "_result = torch.matmul(tensor1, tensor2)\n",
    "print(f\"Matmul: {tensor1.shape} & {tensor2.shape} -> {_result.shape}\")\n",
    "assert torch.allclose(result, _result)\n",
    "print(\"========================\")\n",
    "\n",
    "# ---- torch.mm() ---- #\n",
    "# torch.matmul() supports broadcasting, whereas torch.mm() does not.\n",
    "# Does not support batch matrix multiplication. Only computes 2D tensor matrix multiplication.\n",
    "# It's recommended to use the torch.mm() instead of torch.matmul() to reduce the debugging points.\n",
    "tensor1 = torch.randn(2, 3)\n",
    "tensor2 = torch.randn(3, 2)\n",
    "result = torch.mm(tensor1, tensor2)\n",
    "print(f\"mm: {tensor1.shape} & {tensor2.shape} -> {result.shape}\")\n",
    "assert torch.allclose(result, torch.matmul(tensor1, tensor2))\n",
    "print(\"========================\")\n",
    "\n",
    "# ---- torch.bmm() ---- #\n",
    "# torch.matmul() supports broadcasting, whereas torch.bmm() does not.\n",
    "# Do support batch matrix multiplication.\n",
    "# It's recommended to use the torch.bmm() instead of torch.matmul() to reduce the debugging points.\n",
    "tensor1 = torch.randn(10, 2, 3)\n",
    "tensor2 = torch.randn(10, 3, 2)\n",
    "result = torch.bmm(tensor1, tensor2)\n",
    "print(f\"bmm: {tensor1.shape} & {tensor2.shape} -> {result.shape}\")\n",
    "print(\"========================\")\n",
    "\n",
    "# ---- torch.outer() ---- #\n",
    "# Outer product\n",
    "tensor1 = torch.arange(1, 4)  # (3, )\n",
    "tensor2 = torch.arange(1, 3)  # (2, )\n",
    "result = torch.outer(tensor1, tensor2)\n",
    "print(f\"outer: {tensor1.shape} & {tensor2.shape} -> {result.shape}\")\n",
    "print(\"========================\")"
   ]
  },
  {
   "cell_type": "markdown",
   "metadata": {},
   "source": [
    "## torch.expand vs torch.repeat"
   ]
  },
  {
   "cell_type": "code",
   "execution_count": 22,
   "metadata": {},
   "outputs": [
    {
     "name": "stdout",
     "output_type": "stream",
     "text": [
      "tensor([[1, 2, 3, 1, 2, 3],\n",
      "        [1, 2, 3, 1, 2, 3],\n",
      "        [1, 2, 3, 1, 2, 3],\n",
      "        [1, 2, 3, 1, 2, 3]]) torch.Size([4, 6])\n",
      "tensor([[1, 2, 3],\n",
      "        [1, 2, 3]]) torch.Size([2, 3])\n",
      "tensor([1, 2, 3, 1, 2, 3]) torch.Size([6])\n",
      "========================\n",
      "tensor([[1, 1, 1, 1],\n",
      "        [2, 2, 2, 2],\n",
      "        [3, 3, 3, 3]]) torch.Size([3, 4])\n",
      "tensor([[[ 0.4609, -0.1003, -0.7988],\n",
      "         [-0.5215, -1.0076,  0.4091]]])\n",
      "tensor([[[ 0.4609, -0.1003, -0.7988],\n",
      "         [-0.5215, -1.0076,  0.4091]],\n",
      "\n",
      "        [[ 0.4609, -0.1003, -0.7988],\n",
      "         [-0.5215, -1.0076,  0.4091]],\n",
      "\n",
      "        [[ 0.4609, -0.1003, -0.7988],\n",
      "         [-0.5215, -1.0076,  0.4091]],\n",
      "\n",
      "        [[ 0.4609, -0.1003, -0.7988],\n",
      "         [-0.5215, -1.0076,  0.4091]]]) torch.Size([4, 2, 3])\n",
      "========================\n",
      "True\n"
     ]
    }
   ],
   "source": [
    "# ---- `torch.repeat` copies the tensor ---- #\n",
    "tensor1 = torch.tensor([1, 2, 3])\n",
    "\n",
    "# repeat `dim=0` 4 times, `dim=1` 2 times\n",
    "# (1, 3) -> (4, 6)\n",
    "print(tensor1.repeat(4, 2), tensor1.repeat(4, 2).size())\n",
    "\n",
    "# (1, 3) -> (2, 3)\n",
    "print(tensor1.repeat(2, 1), tensor1.repeat(2, 1).size())\n",
    "\n",
    "# torch.repeat(*sizes) -> sizes.shape == (1, ) -> *sizes = (1, n)\n",
    "# (1, 3) -> (1, 6)\n",
    "print(tensor1.repeat(2), tensor1.repeat(2).size())\n",
    "print(\"========================\")\n",
    "\n",
    "# ---- `torch.expand` ---- #\n",
    "# Only applicable at the dimension which is 1\n",
    "tensor1 = torch.tensor([[1], [2], [3]])\n",
    "# (3, 1) -> (3, 4)\n",
    "print(tensor1.expand(3, 4), tensor1.expand(3, 4).size())\n",
    "\n",
    "tensor2 = torch.randn(1, 2, 3)\n",
    "# (1, 2, 3) -> (4, 2, 3)\n",
    "print(tensor2)\n",
    "print(tensor2.expand(4, -1, -1), tensor2.expand(4, -1, -1).size())\n",
    "print(\"========================\")\n",
    "\n",
    "# torch.repeat vs. torch.expand\n",
    "print(torch.allclose(tensor2.repeat(4, 1, 1), tensor2.expand(4, -1, -1)))"
   ]
  }
 ],
 "metadata": {
  "kernelspec": {
   "display_name": "nlp",
   "language": "python",
   "name": "python3"
  },
  "language_info": {
   "codemirror_mode": {
    "name": "ipython",
    "version": 3
   },
   "file_extension": ".py",
   "mimetype": "text/x-python",
   "name": "python",
   "nbconvert_exporter": "python",
   "pygments_lexer": "ipython3",
   "version": "3.10.0"
  }
 },
 "nbformat": 4,
 "nbformat_minor": 2
}
