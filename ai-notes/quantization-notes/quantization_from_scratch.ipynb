{
 "cells": [
  {
   "cell_type": "markdown",
   "metadata": {},
   "source": [
    "# Create a simple tensor with random items"
   ]
  },
  {
   "cell_type": "code",
   "execution_count": 1,
   "metadata": {},
   "outputs": [
    {
     "name": "stdout",
     "output_type": "stream",
     "text": [
      "[135.5  -45.5    0.    88.83 130.06 134.5   71.41  60.69 111.94 -20.48\n",
      "  33.76  27.16 107.45  70.34 -44.5  -17.51   3.    14.98 -21.28  48.07]\n"
     ]
    }
   ],
   "source": [
    "import numpy as np\n",
    "\n",
    "# Suppress scientific notation\n",
    "np.set_printoptions(suppress=True, precision=8)\n",
    "\n",
    "# Generate randomly distributed parameters\n",
    "params = np.random.uniform(low=-50, high=150, size=20)\n",
    "\n",
    "# Make sure important values are at the beginning for better debugging\n",
    "params[0] = params.max() + 1\n",
    "params[1] = params.min() - 1\n",
    "params[2] = 0\n",
    "\n",
    "# Round each number to the second decimal place\n",
    "params = np.round(params, 2)\n",
    "\n",
    "# Print the parameters\n",
    "print(params)"
   ]
  },
  {
   "cell_type": "markdown",
   "metadata": {},
   "source": [
    "# Define the quantization methods and quantize"
   ]
  },
  {
   "cell_type": "code",
   "execution_count": 5,
   "metadata": {},
   "outputs": [
    {
     "name": "stdout",
     "output_type": "stream",
     "text": [
      "Original:\n",
      "[135.5  -45.5    0.    88.83 130.06 134.5   71.41  60.69 111.94 -20.48\n",
      "  33.76  27.16 107.45  70.34 -44.5  -17.51   3.    14.98 -21.28  48.07]\n",
      "\n",
      "Asymmetric scale: 0.7098039215686275, zero: 64.0\n",
      "[255   0  64 189 247 253 165 150 222  35 112 102 215 163   1  39  68  85\n",
      "  34 132]\n",
      "\n",
      "Symmetric scale: 1.0669291338582678\n",
      "[127 -43   0  83 122 126  67  57 105 -19  32  25 101  66 -42 -16   3  14\n",
      " -20  45]\n"
     ]
    }
   ],
   "source": [
    "def clamp(params_q: np.array, lower_bound: int, upper_bound: int) -> np.array:\n",
    "    params_q[params_q < lower_bound] = lower_bound\n",
    "    params_q[params_q > upper_bound] = upper_bound\n",
    "    return params_q\n",
    "\n",
    "\n",
    "def asymmetric_quantization(params: np.array, bits: int) -> tuple[np.array, float, int]:\n",
    "    # Calculate the scale and zero point\n",
    "    alpha = np.max(params)\n",
    "    beta = np.min(params)\n",
    "    scale = (alpha - beta) / (2**bits - 1)\n",
    "    zero = -1 * np.round(beta / scale)\n",
    "    lower_bound, upper_bound = 0, 2**bits - 1\n",
    "    # Quantize the parameters\n",
    "    quantized = clamp(np.round(params / scale + zero), lower_bound, upper_bound).astype(\n",
    "        np.int32\n",
    "    )\n",
    "    return quantized, scale, zero\n",
    "\n",
    "\n",
    "def asymmetric_dequantize(params_q: np.array, scale: float, zero: int) -> np.array:\n",
    "    return (params_q - zero) * scale\n",
    "\n",
    "\n",
    "def symmetric_dequantize(params_q: np.array, scale: float) -> np.array:\n",
    "    return params_q * scale\n",
    "\n",
    "\n",
    "def symmetric_quantization(params: np.array, bits: int) -> tuple[np.array, float]:\n",
    "    # Calculate the scale\n",
    "    alpha = np.max(np.abs(params))\n",
    "    scale = alpha / (2 ** (bits - 1) - 1)\n",
    "    lower_bound = -(2 ** (bits - 1))\n",
    "    upper_bound = 2 ** (bits - 1) - 1\n",
    "    # Quantize the parameters\n",
    "    quantized = clamp(np.round(params / scale), lower_bound, upper_bound).astype(\n",
    "        np.int32\n",
    "    )\n",
    "    return quantized, scale\n",
    "\n",
    "\n",
    "def quantization_error(params: np.array, params_q: np.array):\n",
    "    # calculate the MSE\n",
    "    return np.mean((params - params_q) ** 2)\n",
    "\n",
    "\n",
    "(asymmetric_q, asymmetric_scale, asymmetric_zero) = asymmetric_quantization(params, 8)\n",
    "(symmetric_q, symmetric_scale) = symmetric_quantization(params, 8)\n",
    "\n",
    "print(f\"Original:\")\n",
    "print(np.round(params, 2))\n",
    "print(\"\")\n",
    "print(f\"Asymmetric scale: {asymmetric_scale}, zero: {asymmetric_zero}\")\n",
    "print(asymmetric_q)\n",
    "print(\"\")\n",
    "print(f\"Symmetric scale: {symmetric_scale}\")\n",
    "print(symmetric_q)"
   ]
  },
  {
   "cell_type": "code",
   "execution_count": 6,
   "metadata": {},
   "outputs": [
    {
     "name": "stdout",
     "output_type": "stream",
     "text": [
      "Original:\n",
      "[135.5  -45.5    0.    88.83 130.06 134.5   71.41  60.69 111.94 -20.48\n",
      "  33.76  27.16 107.45  70.34 -44.5  -17.51   3.    14.98 -21.28  48.07]\n",
      "\n",
      "Dequantize Asymmetric:\n",
      "[135.57 -45.43   0.    88.73 129.89 134.15  71.69  61.04 112.15 -20.58\n",
      "  34.07  26.97 107.18  70.27 -44.72 -17.75   2.84  14.91 -21.29  48.27]\n",
      "\n",
      "Dequantize Symmetric:\n",
      "[135.5  -45.88   0.    88.56 130.17 134.43  71.48  60.81 112.03 -20.27\n",
      "  34.14  26.67 107.76  70.42 -44.81 -17.07   3.2   14.94 -21.34  48.01]\n"
     ]
    }
   ],
   "source": [
    "# Dequantize the parameters back to 32 bits\n",
    "params_deq_asymmetric = asymmetric_dequantize(\n",
    "    asymmetric_q, asymmetric_scale, asymmetric_zero\n",
    ")\n",
    "params_deq_symmetric = symmetric_dequantize(symmetric_q, symmetric_scale)\n",
    "\n",
    "print(f\"Original:\")\n",
    "print(np.round(params, 2))\n",
    "print(\"\")\n",
    "print(f\"Dequantize Asymmetric:\")\n",
    "print(np.round(params_deq_asymmetric, 2))\n",
    "print(\"\")\n",
    "print(f\"Dequantize Symmetric:\")\n",
    "print(np.round(params_deq_symmetric, 2))"
   ]
  },
  {
   "cell_type": "code",
   "execution_count": 7,
   "metadata": {},
   "outputs": [
    {
     "name": "stdout",
     "output_type": "stream",
     "text": [
      "  Asymmetric error: 0.04\n",
      "   Symmetric error: 0.06\n"
     ]
    }
   ],
   "source": [
    "# Calculate the quantization error\n",
    "print(\n",
    "    f'{\"Asymmetric error: \":>20}{np.round(quantization_error(params, params_deq_asymmetric), 2)}'\n",
    ")\n",
    "print(\n",
    "    f'{\"Symmetric error: \":>20}{np.round(quantization_error(params, params_deq_symmetric), 2)}'\n",
    ")"
   ]
  },
  {
   "cell_type": "code",
   "execution_count": null,
   "metadata": {},
   "outputs": [],
   "source": []
  }
 ],
 "metadata": {
  "kernelspec": {
   "display_name": "probability-statistics",
   "language": "python",
   "name": "python3"
  },
  "language_info": {
   "codemirror_mode": {
    "name": "ipython",
    "version": 3
   },
   "file_extension": ".py",
   "mimetype": "text/x-python",
   "name": "python",
   "nbconvert_exporter": "python",
   "pygments_lexer": "ipython3",
   "version": "3.10.0"
  }
 },
 "nbformat": 4,
 "nbformat_minor": 2
}
