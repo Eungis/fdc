{
 "cells": [
  {
   "cell_type": "code",
   "execution_count": 4,
   "metadata": {},
   "outputs": [],
   "source": [
    "import pandas as pd\n",
    "\n",
    "ko_sents = []\n",
    "en_sents = []\n",
    "\n",
    "with open(\"./data/corpus.tsv\", \"r\") as file:\n",
    "    for i, line in enumerate(file):\n",
    "        if len(line.split(\"\\t\")) == 2:\n",
    "            ko_sent, en_sent = line.split(\"\\t\")\n",
    "            ko_sents += [ko_sent]\n",
    "            en_sents += [en_sent]\n",
    "        else:\n",
    "            print(f\"idx: {i} - sentence: {line}\")\n",
    "\n",
    "data = pd.DataFrame({\"ko_sents\": ko_sents, \"en_sents\": en_sents})"
   ]
  },
  {
   "cell_type": "code",
   "execution_count": 8,
   "metadata": {},
   "outputs": [],
   "source": [
    "from sklearn.model_selection import train_test_split\n",
    "\n",
    "# shuffle data\n",
    "data = data.sample(frac=1).reset_index(drop=True)\n",
    "\n",
    "# split into train_data and test_data\n",
    "train_data, test_data = train_test_split(data, test_size=0.2, random_state=1004)\n",
    "\n",
    "train_data.reset_index(drop=True, inplace=True)\n",
    "test_data.reset_index(drop=True, inplace=True)"
   ]
  },
  {
   "cell_type": "code",
   "execution_count": 11,
   "metadata": {},
   "outputs": [],
   "source": [
    "train_data.to_csv(\"./data/corpus.train.tsv\", sep=\"\\t\", index=False)\n",
    "\n",
    "test_data.to_csv(\"./data/corpus.test.tsv\", sep=\"\\t\", index=False)"
   ]
  },
  {
   "cell_type": "code",
   "execution_count": null,
   "metadata": {},
   "outputs": [],
   "source": []
  }
 ],
 "metadata": {
  "kernelspec": {
   "display_name": "venv",
   "language": "python",
   "name": "python3"
  },
  "language_info": {
   "codemirror_mode": {
    "name": "ipython",
    "version": 3
   },
   "file_extension": ".py",
   "mimetype": "text/x-python",
   "name": "python",
   "nbconvert_exporter": "python",
   "pygments_lexer": "ipython3",
   "version": "3.10.9 (main, Dec 15 2022, 10:44:50) [Clang 14.0.0 (clang-1400.0.29.202)]"
  },
  "vscode": {
   "interpreter": {
    "hash": "a10b254881f706e42c635ed13e00f86233c557d346dd26ed90d26c2bb04c756e"
   }
  }
 },
 "nbformat": 4,
 "nbformat_minor": 2
}
