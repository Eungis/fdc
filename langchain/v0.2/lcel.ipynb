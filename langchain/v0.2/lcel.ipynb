{
 "cells": [
  {
   "cell_type": "code",
   "execution_count": 3,
   "metadata": {},
   "outputs": [
    {
     "name": "stdout",
     "output_type": "stream",
     "text": [
      "Load .env successfully.\n"
     ]
    }
   ],
   "source": [
    "import os\n",
    "from dotenv import load_dotenv\n",
    "\n",
    "load_dotenv()\n",
    "if os.environ[\"OPENAI_API_KEY\"] is not None:\n",
    "    print(\"Load .env successfully.\")"
   ]
  },
  {
   "cell_type": "markdown",
   "metadata": {},
   "source": [
    "[LLMChain] = prompt template + LLM + output_parser\n",
    "\n",
    "Some advantages of switching to the LCEL implementation are:\n",
    "\n",
    "- Clarity around contents and parameters. The legacy LLMChain contains a default output parser and other options.\n",
    "- Easier streaming. LLMChain only supports streaming via callbacks.\n",
    "- Easier access to raw message outputs if desired. LLMChain only exposes these via a parameter or via callback."
   ]
  },
  {
   "cell_type": "code",
   "execution_count": 24,
   "metadata": {},
   "outputs": [],
   "source": [
    "# Langchain Legacy\n",
    "from langchain.chains import LLMChain\n",
    "from langchain_core.prompts import ChatPromptTemplate\n",
    "from langchain_openai import ChatOpenAI\n",
    "\n",
    "chat_model = ChatOpenAI()\n",
    "prompt = ChatPromptTemplate.from_messages([(\"user\", \"Tell me a {adjective} joke\")])\n",
    "chain = LLMChain(llm=chat_model, prompt=prompt)\n",
    "output_legacy = chain({\"adjective\": \"funny\"})  # return dict by default\n",
    "\n",
    "# Recent Langchain: LCEL\n",
    "from langchain_core.output_parsers import StrOutputParser\n",
    "from langchain_core.prompts import ChatPromptTemplate\n",
    "from langchain_openai import ChatOpenAI\n",
    "\n",
    "prompt = ChatPromptTemplate.from_messages([(\"user\", \"Tell me a {adjective} joke\")])\n",
    "chain = prompt | chat_model | StrOutputParser()\n",
    "output = chain.invoke({\"adjective\": \"funny\"})  # return only string\n",
    "\n",
    "from langchain_core.runnables import RunnablePassthrough\n",
    "\n",
    "outer_chain = RunnablePassthrough().assign(text=chain)\n",
    "output = outer_chain.invoke({\"adjective\": \"funny\"})  # return dict as legacy"
   ]
  },
  {
   "cell_type": "code",
   "execution_count": null,
   "metadata": {},
   "outputs": [],
   "source": []
  }
 ],
 "metadata": {
  "kernelspec": {
   "display_name": "nlp",
   "language": "python",
   "name": "python3"
  },
  "language_info": {
   "codemirror_mode": {
    "name": "ipython",
    "version": 3
   },
   "file_extension": ".py",
   "mimetype": "text/x-python",
   "name": "python",
   "nbconvert_exporter": "python",
   "pygments_lexer": "ipython3",
   "version": "3.10.0"
  }
 },
 "nbformat": 4,
 "nbformat_minor": 2
}
