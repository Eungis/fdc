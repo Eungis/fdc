{
 "cells": [
  {
   "cell_type": "code",
   "execution_count": 1,
   "metadata": {},
   "outputs": [
    {
     "name": "stdout",
     "output_type": "stream",
     "text": [
      "valid_tags: ['table', 'tr', 'td', 'th']\n",
      "valid_attrs: ['rowspan', 'colspan']\n",
      "['title', 'p', 'tr', 'span', 'th', 'td', 'a', 'table', 'img']\n",
      "['title', 'p', 'tr', 'th', 'td', 'a', 'table', 'img']\n",
      "['colspan', 'rowspan', 'font', 'alt', 'src', 'href']\n",
      "['colspan', 'rowspan', 'alt', 'src', 'href']\n"
     ]
    }
   ],
   "source": [
    "from bs4 import BeautifulSoup\n",
    "from _html.cleanser import Cleanser\n",
    "\n",
    "txt = '<title>Data Centric AI lego!</title><p>ptag experiment</p><table>\\n   <tr>\\n    <td>\\n     [공동운항편 예약시 대고객 안내 문구]\\n√ XXXX - 운항사\\n     <table>\\n      <tr>\\n       <td>\\n        1) 대한항공 항공기가 아닌 XXXX로 운항하는 공동운항편 입니다. (아래 가. 항 참조) 2) 공동운항편의 운임은 XXXX에서 구입 시의 운임과 다를 수 있습니다. 3) 공동운항편의 탑승수속은 실제 운항하는 항공사의 터미널과 탑승수속 카운터를 이용하셔야 합니다. 탑승수속 마감시간은\\n운항사 규정에 따라 다를 수 있으니 반드시 운항사로 확인하여 주시기 바랍니다. (아래 나. 항 참조) 4) 공동운항편의 제반 서비스는 항공사별로 상이하며 유/무료 사전좌석배정, 아기바구니, 특별기내식, 좌석승급, 스카이패스\\n 우수회원 혜택, 웹/모바일/키오스크 체크인, 휠체어, 반려동물 동반 등의 서비스가 제공되지 않을 수 있습니다.\\n필요한 부가서비스가 있으신 고객께서는 예약 및 발권을 진행하시기 전에 제공 가능 여부를 확인하여 주시기 바랍니다. (아래 다.항 참조) 5) 운항사의 규정에 따라 만15세 미만의 승객이 성인 보호자 없이 여행하거나, 동반하는 보호자가 만 18세 미만인 경우는\\n 탑승이 제한될 수 있으니 운항사로 확인하여 주시기 바랍니다. (아래 다.항 참조) 6) 수하물은 공동운항 협정에 따라 운항사 또는 판매사의 규정이 적용되므로 사전에 확인하여 주시기 바랍니다. (아래 다.항 참조)\\n       </td>\\n      </tr>\\n     </table>\\n    </td>\\n   </tr>\\n   <tr>\\n    <td>\\n     실제 운항사 고지\\n    </td>\\n   </tr>\\n   <tr>\\n    <td>\\n     ○ 고객이 탑승하게 될 실제 항공사명 안내\\n○ 미국 교통부 (U.S DOT) 규정에 따라 공동운항편 예약시 운항사 고지 의무가 있으며, 운항사의 관계사(DBA:Doing Business As)가 실제 운항편인 경우\\n이에 대한 안내도 해야하므로, 편명 하단에 \"DBA\" 가 표시된 구간 예약시 실제 운항편으로 안내 (관련 화면 보기 ☞ Click Here)\\n     <table>\\n      <tr>\\n       <td>\\n        운항사\\n       </td>\\n       <td>\\n        대상편 표준안내문구\\n       </td>\\n      </tr>\\n      <tr>\\n       <td>\\n        AS\\n       </td>\\n       <td>\\n        AS(ALSKA AIRLINES) 관계사인 QX(Horizon Air) 항공기로 운항하는 공동운항편입니다.\\n       </td>\\n      </tr>\\n      <tr>\\n       <td>\\n        EY\\n       </td>\\n       <td>\\n        EY(ETIHAD AIRWAYS) 관계사인 9W(Jet Airways) 외장을 가진 항공기로 운항하는 공동운항편입니다.\\n       </td>\\n      </tr>\\n      <tr>\\n       <td>\\n        KL\\n       </td>\\n       <td>\\n        KL(KLM-ROYAL DUTCH AIRLINES) 관계사인 WA(KLM Cityhopper) 항공기로 운항하는 공동운항편입니다.\\n       </td>\\n      </tr>\\n      <tr>\\n       <td>\\n        LA\\n       </td>\\n       <td>\\n        LA(LAN AIRLINES) 관계사인 LP(Lan Peru) 항공기로 운항하는 공동운항편입니다.\\n       </td>\\n      </tr>\\n      <tr>\\n       <td>\\n        AR\\n       </td>\\n       <td>\\n        AR(AEROLINEAS ARGENTINAS) 관계사인 AU (Austral Lineas Aereas) 항공기로 운항하는 공동운항편입니다.\\n       </td>\\n      </tr>\\n     </table>\\n     ○ 실제 운항 기재, 승무원 등 운송 및 운항 관련 서비스는 실제 운항사 기준으로 적용됨을 안내\\n    </td>\\n   </tr>\\n   <tr>\\n    <td>\\n     탑승터미널 위치, 탑승수속 마감시간 확인\\n    </td>\\n   </tr>\\n   <tr>\\n    <td>\\n     ○ 탑승 절차 관련하여 탑승 터미널 위치, 탑승 수속 마감시간 및 운항사 카운터 이용 안내\\n - 탑승 터미널 위치\\n: 스케줄 조회화면 또는 편명 더블클릭하여 Flight Schedule 팝업 내 Description 에서 확인 가능\\n- 탑승 수속 마감시간 : 편명 더블클릭하여 Flight Schedule 팝업 내 Description에서 확인 또는 좌석 확보시 팝업에서\\n \" CHKIN CLOSE TIME CHECK WITH OPERATING CARR \" 문구 확인됨\\n[스케줄 조회 화면]\\n [좌석 확보시 팝업]\\n [Flight Schedule 팝업]\\n    </td>\\n   </tr>\\n   <tr>\\n    <td>\\n     Special Service 관련\\n    </td>\\n   </tr>\\n   <tr>\\n    <td>\\n     ○ KE Marketing 승객에게 제공되는 Special Meal 및 Special Service는 기본적으로 운항사의 제공 기준에 따르므로,\\n파트너사별 서비스 제공 여부 및 신청 가능 시점이 상이함\\n따라서, Special Meal 및 Special Service 신청시, 서비스 제공 가능 여부 및 신청 가능시점 등은\\n반드시 Checklist - Checklist Information - Codeshare INFO 확인 또는 [Tools] - [Help&amp;Information] - Topic에서 CODESHARE INFO 선택 - 항공사 조회하여 안내\\n√ FMLY CARE SVC, FRES 등 KE 고유 서비스 신청 불가\\n√ CHML 신청시 메뉴 선택 불가\\n√ 공동운항편은 UM 신청 불가, 운항사의 UM 적용 연령은 상이할수 있으므로 미성년자 예약 시 반드시 확인 요망\\n - 공동운항편에 미성년자 예약시 유의사항 ☞ Click Here\\n☞ 상기와 같은 사유로 고객의 요청 서비스를 제공할수 없는 경우, 정중히 안내 후 대체 가능한 운항편으로 유도\\n○ 공동운항 수하물은 협정에 따라 운항사 또는 판매사 규정이 적용 됨으로 Codeshare Info 내 항공사를 조회하여 안내\\n(단, 수하물 협약사항에는 FRA 및 EBC 규정만 있으므로 협약사항에 없는 스포츠 수하물/악기 등과 같은 특수 수하물은 운항사의 규정을 따름)\\n    </td>\\n   </tr>\\n   <tr>\\n    <td>\\n     Excess Baggage Auth 적용 관련\\n    </td>\\n   </tr>\\n   <tr>\\n    <td>\\n     ○ KE ON-LINE FLT에서 KE Marketing 공동운항편으로 변경 시 Excess Baggage Auth가 있는 경우 혜택 제공 불가\\n단, KE/OK 공동운항편의 경우 Excess Baggage Auth 적용 가능하므로 PNR 내 해당 Auth 확인 요망(Click)\\n    </td>\\n   </tr>\\n  </table>'\n",
    "soup = BeautifulSoup(txt)\n",
    "\n",
    "# usage of cleanser\n",
    "cleanser = Cleanser()\n",
    "print(cleanser.add_valid_tags([\"p\", \"img\", \"a\", \"span\", \"title\"]))\n",
    "print(cleanser.remove_valid_tags([\"span\"]))\n",
    "print(cleanser.add_valid_attrs([\"href\", \"src\", \"alt\", \"font\"]))\n",
    "print(cleanser.remove_valid_attrs([\"font\"]))\n",
    "\n",
    "soup = cleanser.cleanse_html(soup)"
   ]
  },
  {
   "cell_type": "code",
   "execution_count": 2,
   "metadata": {},
   "outputs": [],
   "source": [
    "from _html.splitter import Splitter\n",
    "\n",
    "splitter = Splitter(soup=soup, length_func=len, token_max=1500)\n",
    "chunks = splitter.get_chunks()"
   ]
  },
  {
   "cell_type": "code",
   "execution_count": 3,
   "metadata": {},
   "outputs": [
    {
     "data": {
      "text/plain": [
       "[Chunk(indice=(0, 39), content='<title>\\n Data Centric AI lego!\\n</title>', metadata={'type': '<title>'}),\n",
       " Chunk(indice=(39, 40), content='\\n', metadata={'type': 'string'}),\n",
       " Chunk(indice=(40, 65), content='<p>\\n ptag experiment\\n</p>', metadata={'type': '<p>'}),\n",
       " Chunk(indice=(65, 66), content='\\n', metadata={'type': 'string'}),\n",
       " Chunk(indice=(66, 3392), content='<table>\\n <tr>\\n  <td>\\n   [공동운항편 예약시 대고객 안내 문구]\\n√ XXXX - 운항사\\n   <table>\\n    <tr>\\n     <td>\\n      1) 대한항공 항공기가 아닌 XXXX로 운항하는 공동운항편 입니다. (아래 가. 항 참조) 2) 공동운항편의 운임은 XXXX에서 구입 시의 운임과 다를 수 있습니다. 3) 공동운항편의 탑승수속은 실제 운항하는 항공사의 터미널과 탑승수속 카운터를 이용하셔야 합니다. 탑승수속 마감시간은\\n운항사 규정에 따라 다를 수 있으니 반드시 운항사로 확인하여 주시기 바랍니다. (아래 나. 항 참조) 4) 공동운항편의 제반 서비스는 항공사별로 상이하며 유/무료 사전좌석배정, 아기바구니, 특별기내식, 좌석승급, 스카이패스\\n 우수회원 혜택, 웹/모바일/키오스크 체크인, 휠체어, 반려동물 동반 등의 서비스가 제공되지 않을 수 있습니다.\\n필요한 부가서비스가 있으신 고객께서는 예약 및 발권을 진행하시기 전에 제공 가능 여부를 확인하여 주시기 바랍니다. (아래 다.항 참조) 5) 운항사의 규정에 따라 만15세 미만의 승객이 성인 보호자 없이 여행하거나, 동반하는 보호자가 만 18세 미만인 경우는\\n 탑승이 제한될 수 있으니 운항사로 확인하여 주시기 바랍니다. (아래 다.항 참조) 6) 수하물은 공동운항 협정에 따라 운항사 또는 판매사의 규정이 적용되므로 사전에 확인하여 주시기 바랍니다. (아래 다.항 참조)\\n     </td>\\n    </tr>\\n   </table>\\n  </td>\\n </tr>\\n <tr>\\n  <td>\\n   실제 운항사 고지\\n  </td>\\n </tr>\\n <tr>\\n  <td>\\n   ○ 고객이 탑승하게 될 실제 항공사명 안내\\n○ 미국 교통부 (U.S DOT) 규정에 따라 공동운항편 예약시 운항사 고지 의무가 있으며, 운항사의 관계사(DBA:Doing Business As)가 실제 운항편인 경우\\n이에 대한 안내도 해야하므로, 편명 하단에 \"DBA\" 가 표시된 구간 예약시 실제 운항편으로 안내 (관련 화면 보기 ☞ Click Here)\\n   <table>\\n    <tr>\\n     <td>\\n      운항사\\n     </td>\\n     <td>\\n      대상편 표준안내문구\\n     </td>\\n    </tr>\\n    <tr>\\n     <td>\\n      AS\\n     </td>\\n     <td>\\n      AS(ALSKA AIRLINES) 관계사인 QX(Horizon Air) 항공기로 운항하는 공동운항편입니다.\\n     </td>\\n    </tr>\\n    <tr>\\n     <td>\\n      EY\\n     </td>\\n     <td>\\n      EY(ETIHAD AIRWAYS) 관계사인 9W(Jet Airways) 외장을 가진 항공기로 운항하는 공동운항편입니다.\\n     </td>\\n    </tr>\\n    <tr>\\n     <td>\\n      KL\\n     </td>\\n     <td>\\n      KL(KLM-ROYAL DUTCH AIRLINES) 관계사인 WA(KLM Cityhopper) 항공기로 운항하는 공동운항편입니다.\\n     </td>\\n    </tr>\\n    <tr>\\n     <td>\\n      LA\\n     </td>\\n     <td>\\n      LA(LAN AIRLINES) 관계사인 LP(Lan Peru) 항공기로 운항하는 공동운항편입니다.\\n     </td>\\n    </tr>\\n    <tr>\\n     <td>\\n      AR\\n     </td>\\n     <td>\\n      AR(AEROLINEAS ARGENTINAS) 관계사인 AU (Austral Lineas Aereas) 항공기로 운항하는 공동운항편입니다.\\n     </td>\\n    </tr>\\n   </table>\\n   ○ 실제 운항 기재, 승무원 등 운송 및 운항 관련 서비스는 실제 운항사 기준으로 적용됨을 안내\\n  </td>\\n </tr>\\n <tr>\\n  <td>\\n   탑승터미널 위치, 탑승수속 마감시간 확인\\n  </td>\\n </tr>\\n <tr>\\n  <td>\\n   ○ 탑승 절차 관련하여 탑승 터미널 위치, 탑승 수속 마감시간 및 운항사 카운터 이용 안내\\n - 탑승 터미널 위치\\n: 스케줄 조회화면 또는 편명 더블클릭하여 Flight Schedule 팝업 내 Description 에서 확인 가능\\n- 탑승 수속 마감시간 : 편명 더블클릭하여 Flight Schedule 팝업 내 Description에서 확인 또는 좌석 확보시 팝업에서\\n \" CHKIN CLOSE TIME CHECK WITH OPERATING CARR \" 문구 확인됨\\n[스케줄 조회 화면]\\n [좌석 확보시 팝업]\\n [Flight Schedule 팝업]\\n  </td>\\n </tr>\\n <tr>\\n  <td>\\n   Special Service 관련\\n  </td>\\n </tr>\\n <tr>\\n  <td>\\n   ○ KE Marketing 승객에게 제공되는 Special Meal 및 Special Service는 기본적으로 운항사의 제공 기준에 따르므로,\\n파트너사별 서비스 제공 여부 및 신청 가능 시점이 상이함\\n따라서, Special Meal 및 Special Service 신청시, 서비스 제공 가능 여부 및 신청 가능시점 등은\\n반드시 Checklist - Checklist Information - Codeshare INFO 확인 또는 [Tools] - [Help&amp;Information] - Topic에서 CODESHARE INFO 선택 - 항공사 조회하여 안내\\n√ FMLY CARE SVC, FRES 등 KE 고유 서비스 신청 불가\\n√ CHML 신청시 메뉴 선택 불가\\n√ 공동운항편은 UM 신청 불가, 운항사의 UM 적용 연령은 상이할수 있으므로 미성년자 예약 시 반드시 확인 요망\\n - 공동운항편에 미성년자 예약시 유의사항 ☞ Click Here\\n☞ 상기와 같은 사유로 고객의 요청 서비스를 제공할수 없는 경우, 정중히 안내 후 대체 가능한 운항편으로 유도\\n○ 공동운항 수하물은 협정에 따라 운항사 또는 판매사 규정이 적용 됨으로 Codeshare Info 내 항공사를 조회하여 안내\\n(단, 수하물 협약사항에는 FRA 및 EBC 규정만 있으므로 협약사항에 없는 스포츠 수하물/악기 등과 같은 특수 수하물은 운항사의 규정을 따름)\\n  </td>\\n </tr>\\n <tr>\\n  <td>\\n   Excess Baggage Auth 적용 관련\\n  </td>\\n </tr>\\n <tr>\\n  <td>\\n   ○ KE ON-LINE FLT에서 KE Marketing 공동운항편으로 변경 시 Excess Baggage Auth가 있는 경우 혜택 제공 불가\\n단, KE/OK 공동운항편의 경우 Excess Baggage Auth 적용 가능하므로 PNR 내 해당 Auth 확인 요망(Click)\\n  </td>\\n </tr>\\n</table>', metadata={'type': '<table>'})]"
      ]
     },
     "execution_count": 3,
     "metadata": {},
     "output_type": "execute_result"
    }
   ],
   "source": [
    "chunks"
   ]
  },
  {
   "cell_type": "code",
   "execution_count": 4,
   "metadata": {},
   "outputs": [
    {
     "data": {
      "text/plain": [
       "[Document(page=0, page_content='<title>\\n Data Centric AI lego!\\n</title>\\n<p>\\n ptag experiment\\n</p>\\n<table>\\n <tr>\\n  <td>\\n   [공동운항편 예약시 대고객 안내 문구]\\n√ XXXX - 운항사\\n   <table>\\n   </table>\\n  </td>\\n </tr>\\n <tr>\\n  <td>\\n   1) 대한항공 항공기가 아닌 XXXX로 운항하는 공동운항편 입니다. (아래 가. 항 참조) 2) 공동운항편의 운임은 XXXX에서 구입 시의 운임과 다를 수 있습니다. 3) 공동운항편의 탑승수속은 실제 운항하는 항공사의 터미널과 탑승수속 카운터를 이용하셔야 합니다. 탑승수속 마감시간은\\n운항사 규정에 따라 다를 수 있으니 반드시 운항사로 확인하여 주시기 바랍니다. (아래 나. 항 참조) 4) 공동운항편의 제반 서비스는 항공사별로 상이하며 유/무료 사전좌석배정, 아기바구니, 특별기내식, 좌석승급, 스카이패스\\n 우수회원 혜택, 웹/모바일/키오스크 체크인, 휠체어, 반려동물 동반 등의 서비스가 제공되지 않을 수 있습니다.\\n필요한 부가서비스가 있으신 고객께서는 예약 및 발권을 진행하시기 전에 제공 가능 여부를 확인하여 주시기 바랍니다. (아래 다.항 참조) 5) 운항사의 규정에 따라 만15세 미만의 승객이 성인 보호자 없이 여행하거나, 동반하는 보호자가 만 18세 미만인 경우는\\n 탑승이 제한될 수 있으니 운항사로 확인하여 주시기 바랍니다. (아래 다.항 참조) 6) 수하물은 공동운항 협정에 따라 운항사 또는 판매사의 규정이 적용되므로 사전에 확인하여 주시기 바랍니다. (아래 다.항 참조)\\n  </td>\\n </tr>\\n</table>\\n', length=815, metadata={}),\n",
       " Document(page=1, page_content='<table>\\n <tr>\\n  <td>\\n   실제 운항사 고지\\n  </td>\\n </tr>\\n <tr>\\n  <td>\\n   ○ 고객이 탑승하게 될 실제 항공사명 안내\\n○ 미국 교통부 (U.S DOT) 규정에 따라 공동운항편 예약시 운항사 고지 의무가 있으며, 운항사의 관계사(DBA:Doing Business As)가 실제 운항편인 경우\\n이에 대한 안내도 해야하므로, 편명 하단에 \"DBA\" 가 표시된 구간 예약시 실제 운항편으로 안내 (관련 화면 보기 ☞ Click Here)\\n   <table>\\n    <tr>\\n     <td>\\n      운항사\\n     </td>\\n     <td>\\n      대상편 표준안내문구\\n     </td>\\n    </tr>\\n    <tr>\\n     <td>\\n      AS\\n     </td>\\n     <td>\\n      AS(ALSKA AIRLINES) 관계사인 QX(Horizon Air) 항공기로 운항하는 공동운항편입니다.\\n     </td>\\n    </tr>\\n    <tr>\\n     <td>\\n      EY\\n     </td>\\n     <td>\\n      EY(ETIHAD AIRWAYS) 관계사인 9W(Jet Airways) 외장을 가진 항공기로 운항하는 공동운항편입니다.\\n     </td>\\n    </tr>\\n    <tr>\\n     <td>\\n      KL\\n     </td>\\n     <td>\\n      KL(KLM-ROYAL DUTCH AIRLINES) 관계사인 WA(KLM Cityhopper) 항공기로 운항하는 공동운항편입니다.\\n     </td>\\n    </tr>\\n    <tr>\\n     <td>\\n      LA\\n     </td>\\n     <td>\\n      LA(LAN AIRLINES) 관계사인 LP(Lan Peru) 항공기로 운항하는 공동운항편입니다.\\n     </td>\\n    </tr>\\n    <tr>\\n     <td>\\n      AR\\n     </td>\\n     <td>\\n      AR(AEROLINEAS ARGENTINAS) 관계사인 AU (Austral Lineas Aereas) 항공기로 운항하는 공동운항편입니다.\\n     </td>\\n    </tr>\\n   </table>\\n   ○ 실제 운항 기재, 승무원 등 운송 및 운항 관련 서비스는 실제 운항사 기준으로 적용됨을 안내\\n  </td>\\n </tr>\\n</table>\\n<table>\\n <tr>\\n  <td>\\n   운항사\\n  </td>\\n  <td>\\n   대상편 표준안내문구\\n  </td>\\n </tr>\\n <tr>\\n  <td>\\n   AS\\n  </td>\\n  <td>\\n   AS(ALSKA AIRLINES) 관계사인 QX(Horizon Air) 항공기로 운항하는 공동운항편입니다.\\n  </td>\\n </tr>\\n</table>\\n', length=1362, metadata={}),\n",
       " Document(page=2, page_content='<table>\\n <tr>\\n  <td>\\n   EY\\n  </td>\\n  <td>\\n   EY(ETIHAD AIRWAYS) 관계사인 9W(Jet Airways) 외장을 가진 항공기로 운항하는 공동운항편입니다.\\n  </td>\\n </tr>\\n <tr>\\n  <td>\\n   KL\\n  </td>\\n  <td>\\n   KL(KLM-ROYAL DUTCH AIRLINES) 관계사인 WA(KLM Cityhopper) 항공기로 운항하는 공동운항편입니다.\\n  </td>\\n </tr>\\n</table>\\n<table>\\n <tr>\\n  <td>\\n   LA\\n  </td>\\n  <td>\\n   LA(LAN AIRLINES) 관계사인 LP(Lan Peru) 항공기로 운항하는 공동운항편입니다.\\n  </td>\\n </tr>\\n <tr>\\n  <td>\\n   AR\\n  </td>\\n  <td>\\n   AR(AEROLINEAS ARGENTINAS) 관계사인 AU (Austral Lineas Aereas) 항공기로 운항하는 공동운항편입니다.\\n  </td>\\n </tr>\\n</table>\\n<table>\\n <tr>\\n  <td>\\n   탑승터미널 위치, 탑승수속 마감시간 확인\\n  </td>\\n </tr>\\n <tr>\\n  <td>\\n   ○ 탑승 절차 관련하여 탑승 터미널 위치, 탑승 수속 마감시간 및 운항사 카운터 이용 안내\\n - 탑승 터미널 위치\\n: 스케줄 조회화면 또는 편명 더블클릭하여 Flight Schedule 팝업 내 Description 에서 확인 가능\\n- 탑승 수속 마감시간 : 편명 더블클릭하여 Flight Schedule 팝업 내 Description에서 확인 또는 좌석 확보시 팝업에서\\n \" CHKIN CLOSE TIME CHECK WITH OPERATING CARR \" 문구 확인됨\\n[스케줄 조회 화면]\\n [좌석 확보시 팝업]\\n [Flight Schedule 팝업]\\n  </td>\\n </tr>\\n</table>\\n', length=927, metadata={}),\n",
       " Document(page=3, page_content='<table>\\n <tr>\\n  <td>\\n   Special Service 관련\\n  </td>\\n </tr>\\n <tr>\\n  <td>\\n   ○ KE Marketing 승객에게 제공되는 Special Meal 및 Special Service는 기본적으로 운항사의 제공 기준에 따르므로,\\n파트너사별 서비스 제공 여부 및 신청 가능 시점이 상이함\\n따라서, Special Meal 및 Special Service 신청시, 서비스 제공 가능 여부 및 신청 가능시점 등은\\n반드시 Checklist - Checklist Information - Codeshare INFO 확인 또는 [Tools] - [Help&amp;Information] - Topic에서 CODESHARE INFO 선택 - 항공사 조회하여 안내\\n√ FMLY CARE SVC, FRES 등 KE 고유 서비스 신청 불가\\n√ CHML 신청시 메뉴 선택 불가\\n√ 공동운항편은 UM 신청 불가, 운항사의 UM 적용 연령은 상이할수 있으므로 미성년자 예약 시 반드시 확인 요망\\n - 공동운항편에 미성년자 예약시 유의사항 ☞ Click Here\\n☞ 상기와 같은 사유로 고객의 요청 서비스를 제공할수 없는 경우, 정중히 안내 후 대체 가능한 운항편으로 유도\\n○ 공동운항 수하물은 협정에 따라 운항사 또는 판매사 규정이 적용 됨으로 Codeshare Info 내 항공사를 조회하여 안내\\n(단, 수하물 협약사항에는 FRA 및 EBC 규정만 있으므로 협약사항에 없는 스포츠 수하물/악기 등과 같은 특수 수하물은 운항사의 규정을 따름)\\n  </td>\\n </tr>\\n</table>\\n<table>\\n <tr>\\n  <td>\\n   Excess Baggage Auth 적용 관련\\n  </td>\\n </tr>\\n <tr>\\n  <td>\\n   ○ KE ON-LINE FLT에서 KE Marketing 공동운항편으로 변경 시 Excess Baggage Auth가 있는 경우 혜택 제공 불가\\n단, KE/OK 공동운항편의 경우 Excess Baggage Auth 적용 가능하므로 PNR 내 해당 Auth 확인 요망(Click)\\n  </td>\\n </tr>\\n</table>\\n', length=1050, metadata={})]"
      ]
     },
     "execution_count": 4,
     "metadata": {},
     "output_type": "execute_result"
    }
   ],
   "source": [
    "new_chunks = splitter.split_chunks(chunks)\n",
    "splitter.merge_into_documents(new_chunks)"
   ]
  },
  {
   "cell_type": "code",
   "execution_count": null,
   "metadata": {},
   "outputs": [],
   "source": []
  },
  {
   "cell_type": "code",
   "execution_count": null,
   "metadata": {},
   "outputs": [],
   "source": []
  },
  {
   "cell_type": "code",
   "execution_count": null,
   "metadata": {},
   "outputs": [],
   "source": []
  }
 ],
 "metadata": {
  "kernelspec": {
   "display_name": "nlp",
   "language": "python",
   "name": "python3"
  },
  "language_info": {
   "codemirror_mode": {
    "name": "ipython",
    "version": 3
   },
   "file_extension": ".py",
   "mimetype": "text/x-python",
   "name": "python",
   "nbconvert_exporter": "python",
   "pygments_lexer": "ipython3",
   "version": "3.10.0"
  }
 },
 "nbformat": 4,
 "nbformat_minor": 2
}
