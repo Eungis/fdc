{
 "cells": [
  {
   "cell_type": "code",
   "execution_count": 2,
   "metadata": {},
   "outputs": [],
   "source": [
    "from pdfminer.pdfinterp import PDFResourceManager, PDFPageInterpreter\n",
    "from pdfminer.converter import HTMLConverter\n",
    "# from pdfminer.converter import TextConverter\n",
    "from pdfminer.layout import LAParams\n",
    "from pdfminer.pdfpage import PDFPage\n",
    "from io import StringIO\n",
    " \n",
    "path = \"../data/pdf_ex_table.pdf\"\n",
    " \n",
    "rsrcmgr = PDFResourceManager() \n",
    "retstr = StringIO()\n",
    "codec = 'utf-8'\n",
    "laparams = LAParams()\n",
    " \n",
    "f = open('../data/out.html', 'wb') # out으로 저장 python 파일 안에 가면 out이 저장됨 \n",
    "device = HTMLConverter(rsrcmgr, f, codec=codec, laparams=laparams) # 변환\n",
    " \n",
    "fp = open(path, 'rb')\n",
    "interpreter = PDFPageInterpreter(rsrcmgr, device)\n",
    "password = \"\"\n",
    "maxpages = 0 #is for all\n",
    "caching = True\n",
    "pagenos=set()\n",
    "for page in PDFPage.get_pages(fp, pagenos, maxpages=maxpages, password=password,caching=caching, check_extractable=True):\n",
    "   interpreter.process_page(page)\n",
    "fp.close()\n",
    "device.close()\n",
    "str = retstr.getvalue()\n",
    "retstr.close()\n",
    "f.close()"
   ]
  },
  {
   "cell_type": "code",
   "execution_count": 5,
   "metadata": {},
   "outputs": [],
   "source": [
    "import fitz\n",
    "\n",
    "DATA_ROOT = \"../data/\"\n",
    "OUTPUT_ROOT = DATA_ROOT + \"pymupdf_ex/\"\n",
    "\n",
    "def open_doc_pymupdf(path=\"../data/pdf_sample.pdf\"):\n",
    "    doc = fitz.open(path)\n",
    "    return doc\n",
    "\n",
    "doc = open_doc_pymupdf()"
   ]
  },
  {
   "cell_type": "code",
   "execution_count": 2,
   "metadata": {},
   "outputs": [
    {
     "name": "stdout",
     "output_type": "stream",
     "text": [
      "['FontInfos', 'FormFonts', 'Graftmaps', 'InsertedImages', 'ShownPages', 'add_layer', 'add_ocg', 'authenticate', 'can_save_incrementally', 'chapter_count', 'chapter_page_count', 'close', 'convert_to_pdf', 'copy_page', 'del_toc_item', 'del_xml_metadata', 'delete_page', 'delete_pages', 'embfile_add', 'embfile_count', 'embfile_del', 'embfile_get', 'embfile_info', 'embfile_names', 'embfile_upd', 'extract_font', 'extract_image', 'ez_save', 'find_bookmark', 'fullcopy_page', 'get_char_widths', 'get_layer', 'get_layers', 'get_new_xref', 'get_oc', 'get_ocgs', 'get_ocmd', 'get_outline_xrefs', 'get_page_fonts', 'get_page_images', 'get_page_labels', 'get_page_numbers', 'get_page_pixmap', 'get_page_text', 'get_page_xobjects', 'get_sigflags', 'get_toc', 'get_xml_metadata', 'has_annots', 'has_links', 'init_doc', 'insert_file', 'insert_page', 'insert_pdf', 'internal_keep_annot', 'isEncrypted', 'is_closed', 'is_dirty', 'is_encrypted', 'is_fast_webaccess', 'is_form_pdf', 'is_pdf', 'is_reflowable', 'is_repaired', 'journal_can_do', 'journal_enable', 'journal_is_enabled', 'journal_load', 'journal_op_name', 'journal_position', 'journal_redo', 'journal_save', 'journal_start_op', 'journal_stop_op', 'journal_undo', 'language', 'last_location', 'layer_ui_configs', 'layout', 'load_page', 'location_from_page_number', 'make_bookmark', 'markinfo', 'metadata', 'move_page', 'name', 'need_appearances', 'needs_pass', 'new_page', 'next_location', 'outline', 'page_annot_xrefs', 'page_count', 'page_cropbox', 'page_number_from_location', 'page_xref', 'pagelayout', 'pagemode', 'pages', 'pdf_catalog', 'pdf_trailer', 'permissions', 'prev_location', 'reload_page', 'resolve_link', 'save', 'saveIncr', 'save_snapshot', 'scrub', 'search_page_for', 'select', 'set_language', 'set_layer', 'set_layer_ui_config', 'set_markinfo', 'set_metadata', 'set_oc', 'set_ocmd', 'set_page_labels', 'set_pagelayout', 'set_pagemode', 'set_toc', 'set_toc_item', 'set_xml_metadata', 'stream', 'subset_fonts', 'switch_layer', 'this', 'thisown', 'tobytes', 'update_object', 'update_stream', 'version_count', 'write', 'xref_copy', 'xref_get_key', 'xref_get_keys', 'xref_is_font', 'xref_is_image', 'xref_is_stream', 'xref_is_xobject', 'xref_length', 'xref_object', 'xref_set_key', 'xref_stream', 'xref_stream_raw', 'xref_xml_metadata']\n"
     ]
    }
   ],
   "source": [
    "# see what kind of methods the document has\n",
    "from typing import List\n",
    "\n",
    "def print_public_method(obj:object) -> List:\n",
    "    methods = []\n",
    "    for method in dir(obj):\n",
    "        if not method.startswith(\"__\") and \\\n",
    "            not method.startswith(\"_\"):\n",
    "                methods += [method]\n",
    "    return methods\n",
    "\n",
    "methods = print_public_method(doc)\n",
    "print(methods)"
   ]
  },
  {
   "cell_type": "markdown",
   "metadata": {},
   "source": [
    "## Extract text from a PDF"
   ]
  },
  {
   "cell_type": "code",
   "execution_count": 3,
   "metadata": {},
   "outputs": [],
   "source": [
    "import fitz\n",
    "\n",
    "doc = open_doc_pymupdf()\n",
    "out = open(OUTPUT_ROOT + \"output.txt\", \"wb\")\n",
    "# iterate over the document pages\n",
    "for page in doc:\n",
    "    # get plain text\n",
    "    text = page.get_text().encode(\"utf8\")\n",
    "    out.write(text)\n",
    "    # write page delimiter (form feed 0x0c)\n",
    "    out.write(bytes((12, )))\n",
    "out.close()"
   ]
  },
  {
   "cell_type": "markdown",
   "metadata": {},
   "source": [
    "## Extract images from a PDF"
   ]
  },
  {
   "cell_type": "code",
   "execution_count": 4,
   "metadata": {},
   "outputs": [
    {
     "name": "stdout",
     "output_type": "stream",
     "text": [
      "Found 1 images on page 2\n"
     ]
    }
   ],
   "source": [
    "doc = open_doc_pymupdf()\n",
    "\n",
    "for page_idx in range(len(doc)):\n",
    "    # get the page - fitz.fitz.Page obj\n",
    "    page = doc[page_idx]\n",
    "    img_lst = page.get_images()\n",
    "    \n",
    "    # print the number of images found on the page\n",
    "    if img_lst:\n",
    "        print(f\"Found {len(img_lst)} images on page {page_idx}\")\n",
    "    \n",
    "    for img_idx, img in enumerate(img_lst, start=1):\n",
    "        # get the XREF of the image\n",
    "        xref = img[0]\n",
    "        # create a Pixmap\n",
    "        ##[TODO] What is a Pixmap obj?\n",
    "        pix = fitz.Pixmap(doc, xref) \n",
    "        \n",
    "        if pix.n - pix.alpha > 3: # CMYK: Convert to RGB first\n",
    "            pix = fitz.Pixmap(fitz.csRGB, pix)\n",
    "            \n",
    "        # save the image as png\n",
    "        pix.save(OUTPUT_ROOT+\"page_%s-image_%s.png\" % (page_idx, img_idx))\n",
    "        pix = None\n",
    "        \n",
    "methods = print_public_method(page)"
   ]
  },
  {
   "cell_type": "markdown",
   "metadata": {},
   "source": [
    "## Merging PDF files with other types of file\n",
    "\n",
    "- For converting page sequence, select the page to copy to,\n",
    "- refer to here: [link](https://github.com/pymupdf/PyMuPDF/wiki/Inserting-Pages-from-other-PDFs)"
   ]
  },
  {
   "cell_type": "code",
   "execution_count": 7,
   "metadata": {},
   "outputs": [],
   "source": [
    "doc = open_doc_pymupdf()\n",
    "doc_table = open_doc_pymupdf(DATA_ROOT+\"pdf_sample_table.pdf\")\n",
    "\n",
    "# merge the docs\n",
    "doc.insert_file(doc_table)\n",
    "doc.save(OUTPUT_ROOT+\"pdf_sample_merged.pdf\")"
   ]
  },
  {
   "cell_type": "markdown",
   "metadata": {},
   "source": [
    "## Adding a watermark to a PDF"
   ]
  },
  {
   "cell_type": "code",
   "execution_count": 9,
   "metadata": {},
   "outputs": [
    {
     "data": {
      "text/plain": [
       "Rect(0.0, 0.0, 612.0, 792.0)"
      ]
     },
     "execution_count": 9,
     "metadata": {},
     "output_type": "execute_result"
    }
   ],
   "source": [
    "doc[1].bound()"
   ]
  },
  {
   "cell_type": "code",
   "execution_count": 11,
   "metadata": {},
   "outputs": [],
   "source": [
    "doc = open_doc_pymupdf()\n",
    "\n",
    "for page_idx in range(len(doc)):\n",
    "    page = doc[page_idx]\n",
    "    \n",
    "    # insert an img watermark from a file name to fit the page bounds\n",
    "    # page.bound() -> (x0, y0, x1, y1)\n",
    "    page.insert_image(page.bound(), filename=OUTPUT_ROOT+\"page_2-image_1.png\", overlay=False)\n",
    "    \n",
    "doc.save(OUTPUT_ROOT+\"pdf_sample_watermarked.pdf\")"
   ]
  },
  {
   "cell_type": "markdown",
   "metadata": {},
   "source": [
    "## Adding an image to a PDF"
   ]
  },
  {
   "cell_type": "code",
   "execution_count": 12,
   "metadata": {},
   "outputs": [],
   "source": [
    "doc = open_doc_pymupdf()\n",
    "\n",
    "for page_idx in range(len(doc)):\n",
    "    page = doc[page_idx]\n",
    "    \n",
    "    # insert an image from a file name at the top left of the document\n",
    "    page.insert_image(fitz.Rect(0, 0, 50, 50), filename=OUTPUT_ROOT+\"page_2-image_1.png\")\n",
    "\n",
    "doc.save(OUTPUT_ROOT+\"pdf_sample_img_inserted.pdf\")"
   ]
  },
  {
   "cell_type": "markdown",
   "metadata": {},
   "source": [
    "## Rotating a PDF"
   ]
  },
  {
   "cell_type": "code",
   "execution_count": 16,
   "metadata": {},
   "outputs": [],
   "source": [
    "doc = open_doc_pymupdf()\n",
    "page = doc[0]\n",
    "page.set_rotation(180)\n",
    "doc.save(OUTPUT_ROOT+\"pdf_sample_rotated.pdf\")"
   ]
  },
  {
   "cell_type": "markdown",
   "metadata": {},
   "source": [
    "## Cropping a PDF"
   ]
  },
  {
   "cell_type": "code",
   "execution_count": 19,
   "metadata": {},
   "outputs": [],
   "source": [
    "doc = open_doc_pymupdf()\n",
    "page = doc[0]\n",
    "page.set_cropbox(\n",
    "    fitz.Rect(100,100,400,400)\n",
    ")\n",
    "doc.save(OUTPUT_ROOT+\"pdf_sample_cropped.pdf\")"
   ]
  },
  {
   "cell_type": "markdown",
   "metadata": {},
   "source": [
    "## Attaching Files"
   ]
  },
  {
   "cell_type": "code",
   "execution_count": 34,
   "metadata": {},
   "outputs": [],
   "source": [
    "doc = open_doc_pymupdf()\n",
    "page = doc[0]\n",
    "# create the point where you want to add the attachment\n",
    "point = fitz.Point(100, 100)\n",
    "\n",
    "# read the attachment file\n",
    "attachment = open_doc_pymupdf(DATA_ROOT+\"pdf_sample_table.pdf\")\n",
    "# get the document byte data as a buffer\n",
    "attachment_data = attachment.tobytes()\n",
    "\n",
    "# add the file annotation with the point, data and the file name\n",
    "file_annotation = page.add_file_annot(\n",
    "    point,\n",
    "    attachment_data,\n",
    "    # Note: the third parameter for the filename should\n",
    "    # include the actual file extension.\n",
    "    # Default: default attachment is \"push bin\".\n",
    "    # However, you can change this by setting the `icon` parameter\n",
    "    \"attachment.pdf\"\n",
    ")\n",
    "doc.save(OUTPUT_ROOT+\"pdf_sample_attached.pdf\")"
   ]
  },
  {
   "cell_type": "code",
   "execution_count": 35,
   "metadata": {},
   "outputs": [],
   "source": [
    "doc = open_doc_pymupdf()\n",
    "embedded_doc = open_doc_pymupdf(DATA_ROOT+\"pdf_sample_table.pdf\")\n",
    "# get the document byte data as a buffer\n",
    "embedded_data = embedded_doc.tobytes()\n",
    "\n",
    "# embed with the file name and the data\n",
    "# As with add_file_annot, the first parameter should include\n",
    "# the actual file extension.\n",
    "doc.embfile_add(\"embedded_file.pdf\", embedded_data)\n",
    "\n",
    "doc.save(OUTPUT_ROOT+\"pdf_sample_embedded.pdf\")"
   ]
  },
  {
   "cell_type": "markdown",
   "metadata": {},
   "source": [
    "## Delete Pages"
   ]
  },
  {
   "cell_type": "code",
   "execution_count": null,
   "metadata": {},
   "outputs": [],
   "source": []
  }
 ],
 "metadata": {
  "kernelspec": {
   "display_name": "nlp",
   "language": "python",
   "name": "python3"
  },
  "language_info": {
   "codemirror_mode": {
    "name": "ipython",
    "version": 3
   },
   "file_extension": ".py",
   "mimetype": "text/x-python",
   "name": "python",
   "nbconvert_exporter": "python",
   "pygments_lexer": "ipython3",
   "version": "3.10.0"
  },
  "orig_nbformat": 4
 },
 "nbformat": 4,
 "nbformat_minor": 2
}
